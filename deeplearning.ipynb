{
  "nbformat": 4,
  "nbformat_minor": 0,
  "metadata": {
    "colab": {
      "provenance": [],
      "authorship_tag": "ABX9TyNd5HB4ovpS1urPFhOqVYLm",
      "include_colab_link": true
    },
    "kernelspec": {
      "name": "python3",
      "display_name": "Python 3"
    },
    "language_info": {
      "name": "python"
    }
  },
  "cells": [
    {
      "cell_type": "markdown",
      "metadata": {
        "id": "view-in-github",
        "colab_type": "text"
      },
      "source": [
        "<a href=\"https://colab.research.google.com/github/madhusai85/DEEPLEARNING/blob/main/deeplearning.ipynb\" target=\"_parent\"><img src=\"https://colab.research.google.com/assets/colab-badge.svg\" alt=\"Open In Colab\"/></a>"
      ]
    },
    {
      "cell_type": "code",
      "execution_count": null,
      "metadata": {
        "colab": {
          "base_uri": "https://localhost:8080/"
        },
        "id": "ZOJ5TZOlVNvE",
        "outputId": "754a75ac-b309-4a5b-acf4-d3d11c367c19"
      },
      "outputs": [
        {
          "output_type": "stream",
          "name": "stdout",
          "text": [
            "TF imported with eager execution!\n",
            "even: tf.Tensor([ 2  4  6  8 10 12], shape=(6,), dtype=int32)\n",
            "ones: tf.Tensor([1 1 1 1 1 1], shape=(6,), dtype=int32)\n",
            "just_beyond_primes: tf.Tensor([ 3  5  7  9 11 13], shape=(6,), dtype=int32)\n",
            "primes_doubled: tf.Tensor([ 4  8 12 16 20 24], shape=(6,), dtype=int32)\n",
            "tf.Tensor(\n",
            "[[1 2 3]\n",
            " [4 5 6]\n",
            " [7 8 9]], shape=(3, 3), dtype=int32)\n",
            "\n",
            "value of some_matrix is:\n",
            " [[1 2 3]\n",
            " [4 5 6]\n",
            " [7 8 9]]\n"
          ]
        }
      ],
      "source": [
        "#dimensions creating and manipulating sensors\n",
        "import tensorflow as tf\n",
        "try:\n",
        " tf.executing_eagerly()\n",
        " print(\"TF imported with eager execution!\")\n",
        "except ValueError:\n",
        " print(\"TF already imported with eager execution!\")\n",
        "even = tf.constant([2, 4, 6, 8, 10, 12], dtype=tf.int32)\n",
        "print(\"even:\", even)\n",
        "ones = tf.ones([6], dtype=tf.int32)\n",
        "print(\"ones:\", ones)\n",
        "just_beyond_primes = tf.add(even, ones)\n",
        "print(\"just_beyond_primes:\", just_beyond_primes)\n",
        "twos = tf.constant([2, 2, 2, 2, 2, 2], dtype=tf.int32)\n",
        "primes_doubled = even * twos\n",
        "print(\"primes_doubled:\", primes_doubled)\n",
        "some_matrix = tf.constant([[1, 2, 3], [4, 5, 6],[7,8,9]], dtype=tf.int32)\n",
        "print(some_matrix)\n",
        "print(\"\\nvalue of some_matrix is:\\n\", some_matrix.numpy())"
      ]
    },
    {
      "cell_type": "code",
      "source": [
        "#train and evaluate\n",
        "import tensorflow as tf\n",
        "from tensorflow.keras.datasets import mnist\n",
        "from tensorflow.keras.models import Sequential\n",
        "from tensorflow.keras.layers import Dense, Flatten\n",
        "from tensorflow.keras.utils import to_categorical\n",
        "# Load and preprocess the MNIST dataset\n",
        "(x_train, y_train), (x_test, y_test) = mnist.load_data()\n",
        "x_train, x_test = x_train / 255.0, x_test / 255.0\n",
        "y_train, y_test = to_categorical(y_train, 10), to_categorical(y_test, 10)\n",
        "model = Sequential([\n",
        " Flatten(input_shape=(28, 28)),\n",
        " Dense(128, activation='relu'),\n",
        " Dense(64, activation='relu'),\n",
        " Dense(10, activation='softmax')\n",
        "])\n",
        "model.compile(optimizer='adam',loss='categorical_crossentropy',metrics=['accuracy'])\n",
        "model.fit(x_train, y_train, epochs=5, batch_size=32, validation_split=0.2)\n",
        "test_loss, test_accuracy = model.evaluate(x_test, y_test)\n",
        "print(f\"Test accuracy: {test_accuracy:.4f}\")"
      ],
      "metadata": {
        "colab": {
          "base_uri": "https://localhost:8080/"
        },
        "id": "f86VQkE7Vd6Y",
        "outputId": "e940870d-ec22-4add-f0da-aa9a6c664890"
      },
      "execution_count": null,
      "outputs": [
        {
          "output_type": "stream",
          "name": "stdout",
          "text": [
            "Downloading data from https://storage.googleapis.com/tensorflow/tf-keras-datasets/mnist.npz\n",
            "11490434/11490434 [==============================] - 0s 0us/step\n",
            "Epoch 1/5\n",
            "1500/1500 [==============================] - 10s 5ms/step - loss: 0.2672 - accuracy: 0.9212 - val_loss: 0.1340 - val_accuracy: 0.9614\n",
            "Epoch 2/5\n",
            "1500/1500 [==============================] - 6s 4ms/step - loss: 0.1127 - accuracy: 0.9658 - val_loss: 0.1068 - val_accuracy: 0.9669\n",
            "Epoch 3/5\n",
            "1500/1500 [==============================] - 8s 5ms/step - loss: 0.0772 - accuracy: 0.9760 - val_loss: 0.0979 - val_accuracy: 0.9697\n",
            "Epoch 4/5\n",
            "1500/1500 [==============================] - 8s 6ms/step - loss: 0.0600 - accuracy: 0.9808 - val_loss: 0.0920 - val_accuracy: 0.9737\n",
            "Epoch 5/5\n",
            "1500/1500 [==============================] - 16s 11ms/step - loss: 0.0453 - accuracy: 0.9861 - val_loss: 0.0956 - val_accuracy: 0.9727\n",
            "313/313 [==============================] - 2s 4ms/step - loss: 0.0845 - accuracy: 0.9735\n",
            "Test accuracy: 0.9735\n"
          ]
        }
      ]
    },
    {
      "cell_type": "code",
      "source": [
        "#binary classification\n",
        "import numpy as np\n",
        "import tensorflow as tf\n",
        "from tensorflow.keras.models import Sequential\n",
        "from tensorflow.keras.layers import Dense,Input\n",
        "from sklearn.model_selection import train_test_split\n",
        "from sklearn.metrics import accuracy_score\n",
        "np.random.seed(42)\n",
        "X = np.random.rand(1000, 2)\n",
        "y = (X[:, 0] + X[:, 1] > 1).astype(int)\n",
        "X_train, X_test, y_train, y_test = train_test_split(X, y, test_size=0.2,\n",
        "random_state=42)\n",
        "model = Sequential([Input(shape=(2)),Dense(64, activation='relu'),Dense(1,\n",
        "activation='sigmoid')])\n",
        "model.compile(optimizer='adam',loss='binary_crossentropy',metrics=['accuracy'])\n",
        "model.fit(X_train, y_train, epochs=10, batch_size=32, validation_split=0.2)\n",
        "y_pred = model.predict(X_test)\n",
        "y_pred_binary = (y_pred > 0.5).astype(int)\n",
        "test_accuracy = accuracy_score(y_test, y_pred_binary)\n",
        "print(f\"Test accuracy: {test_accuracy:.4f}\")"
      ],
      "metadata": {
        "colab": {
          "base_uri": "https://localhost:8080/"
        },
        "id": "EG8hFxcwVgWQ",
        "outputId": "6a4c3387-284a-4504-fedb-cb8c15ca37b5"
      },
      "execution_count": null,
      "outputs": [
        {
          "output_type": "stream",
          "name": "stdout",
          "text": [
            "Epoch 1/10\n",
            "20/20 [==============================] - 1s 11ms/step - loss: 0.6853 - accuracy: 0.5656 - val_loss: 0.6605 - val_accuracy: 0.6500\n",
            "Epoch 2/10\n",
            "20/20 [==============================] - 0s 3ms/step - loss: 0.6592 - accuracy: 0.6078 - val_loss: 0.6297 - val_accuracy: 0.6313\n",
            "Epoch 3/10\n",
            "20/20 [==============================] - 0s 4ms/step - loss: 0.6387 - accuracy: 0.6094 - val_loss: 0.6069 - val_accuracy: 0.6750\n",
            "Epoch 4/10\n",
            "20/20 [==============================] - 0s 4ms/step - loss: 0.6182 - accuracy: 0.6687 - val_loss: 0.5873 - val_accuracy: 0.7125\n",
            "Epoch 5/10\n",
            "20/20 [==============================] - 0s 4ms/step - loss: 0.5977 - accuracy: 0.7047 - val_loss: 0.5670 - val_accuracy: 0.7375\n",
            "Epoch 6/10\n",
            "20/20 [==============================] - 0s 3ms/step - loss: 0.5766 - accuracy: 0.7219 - val_loss: 0.5456 - val_accuracy: 0.7625\n",
            "Epoch 7/10\n",
            "20/20 [==============================] - 0s 4ms/step - loss: 0.5544 - accuracy: 0.7688 - val_loss: 0.5248 - val_accuracy: 0.8125\n",
            "Epoch 8/10\n",
            "20/20 [==============================] - 0s 3ms/step - loss: 0.5321 - accuracy: 0.8109 - val_loss: 0.5043 - val_accuracy: 0.8562\n",
            "Epoch 9/10\n",
            "20/20 [==============================] - 0s 3ms/step - loss: 0.5079 - accuracy: 0.8344 - val_loss: 0.4805 - val_accuracy: 0.8625\n",
            "Epoch 10/10\n",
            "20/20 [==============================] - 0s 4ms/step - loss: 0.4835 - accuracy: 0.8391 - val_loss: 0.4574 - val_accuracy: 0.9125\n",
            "7/7 [==============================] - 0s 2ms/step\n",
            "Test accuracy: 0.8450\n"
          ]
        }
      ]
    },
    {
      "cell_type": "code",
      "source": [
        "#EXP-overfitting and underfitting\n",
        "from sklearn.metrics import mean_absolute_error\n",
        "from sklearn.tree import DecisionTreeRegressor\n",
        "def get_mae(max_leaf_nodes, train_X, val_X, train_y, val_y):\n",
        "  model = DecisionTreeRegressor(max_leaf_nodes=max_leaf_nodes, random_state=0)\n",
        "  model.fit(train_X, train_y)\n",
        "  preds_val = model.predict(val_X)\n",
        "  mae = mean_absolute_error(val_y, preds_val)\n",
        "  return(mae)\n",
        "import pandas as pd\n",
        "# Load data\n",
        "melbourne_file_path ='../input/melbourne-housing-snapshot/melb_data.csv'\n",
        "melbourne_data=pd.read_csv('melb_data.csv')\n",
        "# Filter rows with missing values\n",
        "filtered_melbourne_data = melbourne_data.dropna (axis=0)\n",
        "# Choose target and features\n",
        "y = filtered_melbourne_data. Price\n",
        "melbourne_features = ['Rooms', 'Bathroom', 'Landsize', 'BuildingArea', 'YearBuilt', 'Lattitude', 'Longtitude']\n",
        "X =filtered_melbourne_data[melbourne_features]\n",
        "from sklearn.model_selection import train_test_split\n",
        "# split data into training and validation data, for both features and target\n",
        "train_X, val_X, train_y, val_y = train_test_split(X, y, random_state = 0)\n",
        "for max_leaf_nodes in [5, 50, 500, 5000]:\n",
        "  my_mae = get_mae (max_leaf_nodes, train_X, val_X, train_y, val_y)\n",
        "  print(\"Max leaf nodes: %d \\t\\t Mean Absolute Error: %d\" % (max_leaf_nodes, my_mae))"
      ],
      "metadata": {
        "colab": {
          "base_uri": "https://localhost:8080/"
        },
        "id": "zmu1M_dqVpk6",
        "outputId": "5359a7c9-7212-4175-95e0-8f1bc1ef52a1"
      },
      "execution_count": null,
      "outputs": [
        {
          "output_type": "stream",
          "name": "stdout",
          "text": [
            "Max leaf nodes: 5 \t\t Mean Absolute Error: 363949\n",
            "Max leaf nodes: 50 \t\t Mean Absolute Error: 257996\n",
            "Max leaf nodes: 500 \t\t Mean Absolute Error: 258871\n",
            "Max leaf nodes: 5000 \t\t Mean Absolute Error: 273153\n"
          ]
        }
      ]
    },
    {
      "cell_type": "code",
      "source": [
        "#EXP-5 regression\n",
        "import numpy as np\n",
        "import matplotlib.pyplot as plt\n",
        "def estimate_coef(x, y):\n",
        "    n = np.size(x)\n",
        "    m_x= np.mean(x)\n",
        "    m_y=np.mean(y)\n",
        "    SS_xy =np.sum(y*x)-n*m_y*m_x\n",
        "    SS_xx =np.sum(x*x)-n*m_x*m_x\n",
        "    b_1 = SS_xy / SS_xx\n",
        "    b_0 = m_y-b_1*m_x\n",
        "    return(b_0,b_1)\n",
        "def plot_regression_line(x, y, b):\n",
        "    plt.scatter(x, y, color=\"m\",marker=\"o\",s=30)\n",
        "    y_pred=b[0]+b[1]*x\n",
        "    plt.plot(x,y_pred,color=\"g\")\n",
        "    plt.xlabel('x')\n",
        "    plt.ylabel('y')\n",
        "    plt.show()\n",
        "def main():\n",
        "    x = np.array([0, 1, 2, 3, 4, 5, 6, 7, 8, 9])\n",
        "    y = np.array([1, 3, 2, 5, 7, 8, 8, 9, 10, 12])\n",
        "    b= estimate_coef (x, y)\n",
        "    print(\"Estimated coefficients: \\nb_0)={}\\\\ nb_1= {}\".format(b[0], b[1]))\n",
        "    plot_regression_line (x,y,b)\n",
        "if __name__==\"__main__\":\n",
        "    main()\n"
      ],
      "metadata": {
        "colab": {
          "base_uri": "https://localhost:8080/",
          "height": 484
        },
        "id": "WFkXJaaBV81A",
        "outputId": "53d374cb-c125-4e31-c432-120aee042109"
      },
      "execution_count": null,
      "outputs": [
        {
          "output_type": "stream",
          "name": "stdout",
          "text": [
            "Estimated coefficients: \n",
            "b_0)=1.2363636363636363\\ nb_1= 1.1696969696969697\n"
          ]
        },
        {
          "output_type": "display_data",
          "data": {
            "text/plain": [
              "<Figure size 640x480 with 1 Axes>"
            ],
            "image/png": "[encoded data removed]"
          },
          "metadata": {}
        }
      ]
    },
    {
      "cell_type": "code",
      "source": [
        "#EXP-6 Recurrent neural network(RNN)\n",
        "import tensorflow as tf\n",
        "from tensorflow import keras\n",
        "input_shape = (10, 1)\n",
        "model = keras.Sequential([\n",
        "    keras.layers.SimpleRNN(32, input_shape=input_shape),\n",
        "    keras.layers.Dense(1)\n",
        "])\n",
        "model.compile(optimizer='adam', loss='mse')\n",
        "import numpy as np\n",
        "\n",
        "X_train = np.random.randn(100, 10, 1)\n",
        "y_train = np.random.randn(100, 1)\n",
        "\n",
        "model.fit(X_train, y_train, epochs=10, batch_size=32)\n",
        "X_test = np.random.randn(10, 10, 1)\n",
        "y_test = np.random.randn(10, 1)\n",
        "\n",
        "model.evaluate(X_test, y_test)"
      ],
      "metadata": {
        "colab": {
          "base_uri": "https://localhost:8080/"
        },
        "id": "9H_HpHr5WCCo",
        "outputId": "e35196db-f4c3-453a-ea11-0227b3947901"
      },
      "execution_count": null,
      "outputs": [
        {
          "output_type": "stream",
          "name": "stdout",
          "text": [
            "Epoch 1/10\n",
            "4/4 [==============================] - 2s 8ms/step - loss: 1.0711\n",
            "Epoch 2/10\n",
            "4/4 [==============================] - 0s 9ms/step - loss: 1.0096\n",
            "Epoch 3/10\n",
            "4/4 [==============================] - 0s 8ms/step - loss: 0.9779\n",
            "Epoch 4/10\n",
            "4/4 [==============================] - 0s 10ms/step - loss: 0.9465\n",
            "Epoch 5/10\n",
            "4/4 [==============================] - 0s 9ms/step - loss: 0.9250\n",
            "Epoch 6/10\n",
            "4/4 [==============================] - 0s 8ms/step - loss: 0.9076\n",
            "Epoch 7/10\n",
            "4/4 [==============================] - 0s 7ms/step - loss: 0.8917\n",
            "Epoch 8/10\n",
            "4/4 [==============================] - 0s 8ms/step - loss: 0.8737\n",
            "Epoch 9/10\n",
            "4/4 [==============================] - 0s 7ms/step - loss: 0.8658\n",
            "Epoch 10/10\n",
            "4/4 [==============================] - 0s 5ms/step - loss: 0.8596\n",
            "1/1 [==============================] - 0s 201ms/step - loss: 0.4148\n"
          ]
        },
        {
          "output_type": "execute_result",
          "data": {
            "text/plain": [
              "0.4148169159889221"
            ]
          },
          "metadata": {},
          "execution_count": 7
        }
      ]
    },
    {
      "cell_type": "code",
      "source": [
        "#EXP-7 image captioning\n",
        "# importing required libraries\n",
        "import urllib\n",
        "import requests\n",
        "import os\n",
        "\n",
        "# retrieving using image url\n",
        "urllib.request.urlretrieve(\"https://i.ibb.co/xY4DJJ5/img1.jpg\", \"img1.jpg\")\n",
        "urllib.request.urlretrieve(\"https://i.ibb.co/Gnd1Y1L/img2.jpg\", \"img2.jpg\")\n",
        "urllib.request.urlretrieve(\"https://i.ibb.co/Z6JgS1L/img3.jpg\", \"img3.jpg\")\n",
        "\n",
        "print('Images downloaded')\n",
        "\n",
        "# get current working directory path\n",
        "path = os.getcwd()\n",
        "\n",
        "captionarr = [\n",
        "    \"This is the first caption\",\n",
        "    \"This is the second caption\",\n",
        "    \"This is the third caption\"\n",
        "    ]\n",
        "    # importing necessary functions from PIL\n",
        "from PIL import Image\n",
        "from PIL import ImageFont\n",
        "from PIL import ImageDraw\n",
        "\n",
        "print(os.getcwd())\n",
        "\n",
        "# checking the file mime types if\n",
        "# it is jpg, png or jpeg\n",
        "def ext(file):\n",
        "    index = file.find(\".jpg\")\n",
        "    current_file = \"\"\n",
        "    current_file = file[index:]\n",
        "    return current_file\n",
        "\n",
        "def ext2(file):\n",
        "    index = file.find(\".jpeg\")\n",
        "    current_file = \"\"\n",
        "    current_file = file[index:]\n",
        "    return current_file\n",
        "\n",
        "def ext3(file):\n",
        "    index = file.find(\".png\")\n",
        "    current_file = \"\"\n",
        "    current_file = file[index:]\n",
        "    return current_file\n",
        "\n",
        "# converting text from lowercase to uppercase\n",
        "def convert(words):\n",
        "    s = \"\"\n",
        "    for word in words:\n",
        "        s += word.upper()\n",
        "    return s\n",
        "\n",
        "caption_first = convert(captionarr[0])\n",
        "caption_second = convert(captionarr[1])\n",
        "caption_third = convert(captionarr[2])\n",
        "\n",
        "print(caption_first)\n",
        "print(caption_second)\n",
        "print(caption_third)\n",
        "\n",
        "count = 0\n",
        "\n",
        "for f in os.listdir('.'):\n",
        "    try:\n",
        "        # Checking for file types if jpg, png\n",
        "        # or jpeg excluding other files\n",
        "        if (ext(f) == '.jpg' or ext2(f) == '.jpeg' or ext3(f) == '.png'):\n",
        "            img = Image.open(f)\n",
        "            width, height = img.size\n",
        "            basewidth = 1200\n",
        "            # print(height)\n",
        "\n",
        "            # Resizing images to same width height\n",
        "            wpercent = (basewidth / float(img.size[0]))\n",
        "            hsize = int((float(img.size[1])*float(wpercent)))\n",
        "            img = img.resize((basewidth, hsize), Image.ANTIALIAS)\n",
        "            new_width, new_height = img.size\n",
        "\n",
        "            # print(new_height)\n",
        "            # changing image mode if not in RGB\n",
        "            if not img.mode == 'RGB':\n",
        "                img = img.convert('RGB')\n",
        "\n",
        "            draw = ImageDraw.Draw(img)\n",
        "            # font = ImageFont.truetype(<font-file>, <font-size>)\n",
        "            # initializing which font will be chosen by us\n",
        "            font = ImageFont.truetype(\"Arial Bold.ttf\", 35)\n",
        "\n",
        "             # First Caption on First image\n",
        "            if count == 0:\n",
        "                draw.text((new_width / 15 + 25, new_height - 100),\n",
        "                           caption_first, (255, 0, 0), font = font,\n",
        "                           align =\"center\")\n",
        "\n",
        "            # Second Caption on Second image\n",
        "            elif count == 1:\n",
        "                draw.text((new_width / 15 + 25, new_height - 100),\n",
        "                          caption_second, (255, 0, 0), font = font,\n",
        "                          align =\"center\")\n",
        "\n",
        "            # Third Caption on Third image\n",
        "            else:\n",
        "                draw.text(( new_width / 15 + 25, new_height - 100),\n",
        "                            caption_third, (255, 0, 0), font = font,\n",
        "                            align =\"center\")\n",
        "\n",
        "            img.save(\"CaptionedImges/{}\".format(f))\n",
        "            print('done')\n",
        "            count = count + 1\n",
        "\n",
        "    except OSError:\n",
        "        pass\n",
        "        import os\n",
        "import glob\n",
        "import shutil\n",
        "\n",
        "\n",
        "fnames = []\n",
        "for file in os.listdir('.'):\n",
        "    # appending files in directory to the frames arr\n",
        "    fnames.append(file)\n",
        "fnames.sort(key = lambda x: os.stat(x).st_ctime, reverse = True)\n",
        "\n"
      ],
      "metadata": {
        "colab": {
          "base_uri": "https://localhost:8080/"
        },
        "id": "O0ZUQjoQWH2S",
        "outputId": "abab9915-f408-401e-9b15-ff8517f1b2a9"
      },
      "execution_count": null,
      "outputs": [
        {
          "output_type": "stream",
          "name": "stdout",
          "text": [
            "Images downloaded\n",
            "/content\n",
            "THIS IS THE FIRST CAPTION\n",
            "THIS IS THE SECOND CAPTION\n",
            "THIS IS THE THIRD CAPTION\n"
          ]
        },
        {
          "output_type": "stream",
          "name": "stderr",
          "text": [
            "<ipython-input-8-2bd7092f1545>:79: DeprecationWarning: ANTIALIAS is deprecated and will be removed in Pillow 10 (2023-07-01). Use LANCZOS or Resampling.LANCZOS instead.\n",
            "  img = img.resize((basewidth, hsize), Image.ANTIALIAS)\n"
          ]
        }
      ]
    },
    {
      "cell_type": "code",
      "source": [
        "#EXP-8text to speech\n",
        "!pip install gTTS\n",
        "from gtts import gTTS\n",
        "text_to_say=\"Welcome to the Text to Speech conversion session at Kalasalingam University\"\n",
        "language = 'en'\n",
        "gtts_object = gTTS(text = text_to_say, lang = language, slow = False)\n",
        "gtts_object.save(\"/content/gtts.wav\")\n",
        "from IPython.display import Audio\n",
        "Audio(\"/content/gtts.wav\")"
      ],
      "metadata": {
        "colab": {
          "base_uri": "https://localhost:8080/",
          "height": 269
        },
        "id": "_eMq3Ke6Wbg0",
        "outputId": "ff93c862-fc4d-4a16-e7f3-631b45474d9d"
      },
      "execution_count": null,
      "outputs": [
        {
          "output_type": "stream",
          "name": "stdout",
          "text": [
            "Collecting gTTS\n",
            "  Downloading gTTS-2.4.0-py3-none-any.whl (29 kB)\n",
            "Requirement already satisfied: requests<3,>=2.27 in /usr/local/lib/python3.10/dist-packages (from gTTS) (2.31.0)\n",
            "Requirement already satisfied: click<8.2,>=7.1 in /usr/local/lib/python3.10/dist-packages (from gTTS) (8.1.7)\n",
            "Requirement already satisfied: charset-normalizer<4,>=2 in /usr/local/lib/python3.10/dist-packages (from requests<3,>=2.27->gTTS) (3.3.2)\n",
            "Requirement already satisfied: idna<4,>=2.5 in /usr/local/lib/python3.10/dist-packages (from requests<3,>=2.27->gTTS) (3.6)\n",
            "Requirement already satisfied: urllib3<3,>=1.21.1 in /usr/local/lib/python3.10/dist-packages (from requests<3,>=2.27->gTTS) (2.0.7)\n",
            "Requirement already satisfied: certifi>=2017.4.17 in /usr/local/lib/python3.10/dist-packages (from requests<3,>=2.27->gTTS) (2023.11.17)\n",
            "Installing collected packages: gTTS\n",
            "Successfully installed gTTS-2.4.0\n"
          ]
        },
        {
          "output_type": "execute_result",
          "data": {
            "text/plain": [
              "<IPython.lib.display.Audio object>"
            ],
            "text/html": [
              "\n",
              "                <audio  controls=\"controls\" >\n",
              "                    <source src=\"data:audio/x-wav;base64,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\" type=\"audio/x-wav\" />\n",
              "                    Your browser does not support the audio element.\n",
              "                </audio>\n",
              "              "
            ]
          },
          "metadata": {},
          "execution_count": 9
        }
      ]
    },
    {
      "cell_type": "code",
      "source": [
        "#exp-9CNN\n",
        "import tensorflow as tf\n",
        "from tensorflow.keras.datasets import mnist\n",
        "from tensorflow.keras.models import Sequential\n",
        "from tensorflow.keras.layers import Conv2D, MaxPooling2D, Flatten, Dense, Dropout\n",
        "from tensorflow.keras.utils import to_categorical\n",
        "# Load and preprocess the dataset\n",
        "(x_train, y_train), (x_test, y_test) = mnist.load_data()\n",
        "x_train = x_train.reshape(x_train.shape[0], 28, 28, 1).astype('float32') / 255\n",
        "x_test = x_test.reshape(x_test.shape[0], 28, 28, 1).astype('float32') / 255\n",
        "y_train = to_categorical(y_train, 10)\n",
        "y_test = to_categorical(y_test, 10)\n",
        "# Build the CNN model\n",
        "model = Sequential()\n",
        "model.add(Conv2D(32, kernel_size=(3, 3), activation='relu',\n",
        "input_shape=(28, 28, 1)))\n",
        "model.add(MaxPooling2D(pool_size=(2, 2)))\n",
        "model.add(Conv2D(64, kernel_size=(3, 3), activation='relu'))\n",
        "model.add(MaxPooling2D(pool_size=(2, 2)))\n",
        "model.add(Flatten())\n",
        "model.add(Dense(128, activation='relu'))\n",
        "model.add(Dropout(0.5))\n",
        "model.add(Dense(10, activation='softmax'))\n",
        "# Compile the model\n",
        "model.compile(loss='categorical_crossentropy', optimizer='adam',\n",
        "metrics=['accuracy'])\n",
        "# Train the model\n",
        "model.fit(x_train, y_train, validation_data=(x_test, y_test), epochs=10,\n",
        "batch_size=200, verbose=2)\n",
        "# Evaluate the model\n",
        "test_loss, test_acc = model.evaluate(x_test, y_test, verbose=0)\n",
        "print(f'Test accuracy: {test_acc*100:.2f}%')\n"
      ],
      "metadata": {
        "colab": {
          "base_uri": "https://localhost:8080/"
        },
        "id": "VbYpWFv6WiQB",
        "outputId": "cbf709b2-13fd-4a85-8a3f-b799b9909478"
      },
      "execution_count": null,
      "outputs": [
        {
          "output_type": "stream",
          "name": "stdout",
          "text": [
            "Epoch 1/10\n",
            "300/300 - 58s - loss: 0.3327 - accuracy: 0.8984 - val_loss: 0.0637 - val_accuracy: 0.9807 - 58s/epoch - 192ms/step\n",
            "Epoch 2/10\n",
            "300/300 - 50s - loss: 0.0996 - accuracy: 0.9708 - val_loss: 0.0427 - val_accuracy: 0.9859 - 50s/epoch - 165ms/step\n",
            "Epoch 3/10\n",
            "300/300 - 52s - loss: 0.0745 - accuracy: 0.9778 - val_loss: 0.0357 - val_accuracy: 0.9874 - 52s/epoch - 175ms/step\n",
            "Epoch 4/10\n",
            "300/300 - 44s - loss: 0.0607 - accuracy: 0.9817 - val_loss: 0.0316 - val_accuracy: 0.9892 - 44s/epoch - 148ms/step\n",
            "Epoch 5/10\n",
            "300/300 - 48s - loss: 0.0503 - accuracy: 0.9851 - val_loss: 0.0310 - val_accuracy: 0.9891 - 48s/epoch - 159ms/step\n",
            "Epoch 6/10\n",
            "300/300 - 48s - loss: 0.0451 - accuracy: 0.9860 - val_loss: 0.0283 - val_accuracy: 0.9900 - 48s/epoch - 160ms/step\n",
            "Epoch 7/10\n",
            "300/300 - 44s - loss: 0.0394 - accuracy: 0.9877 - val_loss: 0.0243 - val_accuracy: 0.9905 - 44s/epoch - 148ms/step\n",
            "Epoch 8/10\n",
            "300/300 - 45s - loss: 0.0367 - accuracy: 0.9888 - val_loss: 0.0277 - val_accuracy: 0.9908 - 45s/epoch - 148ms/step\n",
            "Epoch 9/10\n",
            "300/300 - 48s - loss: 0.0319 - accuracy: 0.9900 - val_loss: 0.0280 - val_accuracy: 0.9902 - 48s/epoch - 160ms/step\n",
            "Epoch 10/10\n",
            "300/300 - 42s - loss: 0.0283 - accuracy: 0.9908 - val_loss: 0.0237 - val_accuracy: 0.9921 - 42s/epoch - 141ms/step\n",
            "Test accuracy: 99.21%\n"
          ]
        }
      ]
    },
    {
      "cell_type": "code",
      "source": [
        "#sequence classification\n",
        "#import numpy as np\n",
        "import tensorflow as tf\n",
        "from tensorflow.keras.models import Sequential\n",
        "from tensorflow.keras.layers import Embedding, LSTM, Dense\n",
        "from tensorflow.keras.preprocessing.text import Tokenizer\n",
        "from tensorflow.keras.preprocessing.sequence import pad_sequences\n",
        "\n",
        "# Sample data: sentences and their corresponding labels\n",
        "sentences = [ \"I love this product\", \"This is terrible\", \"Great job!\", \"Not good at all\", \"Awesome stuff\" ]\n",
        "labels = [1, 0, 1, 0, 1]\n",
        "\n",
        "# Tokenize the text data:\n",
        "tokenizer = Tokenizer(num_words=1000, oov_token=\"\")\n",
        "tokenizer.fit_on_texts(sentences)\n",
        "word_index = tokenizer.word_index\n",
        "\n",
        "# Convert sentences to sequences of integers\n",
        "sequences = tokenizer.texts_to_sequences(sentences)\n",
        "\n",
        "# Pad sequences to have the same length\n",
        "max_sequence_length = max([len(seq) for seq in sequences])\n",
        "sequences_padded = pad_sequences(sequences, maxlen=max_sequence_length, padding=\"post\")\n",
        "\n",
        "# Define the model\n",
        "model = Sequential()\n",
        "model.add(Embedding(input_dim=len(word_index) + 1, output_dim=64, input_length=max_sequence_length))\n",
        "model.add(LSTM(64))\n",
        "model.add(Dense(1, activation=\"sigmoid\"))\n",
        "\n",
        "# Compile the model\n",
        "model.compile(loss=\"binary_crossentropy\", optimizer=\"adam\", metrics=[\"accuracy\"])\n",
        "\n",
        "# Test sentences for predictions\n",
        "test_sentences = [\n",
        "    \"This is amazing\",\n",
        "    \"Absolutely awful\",\n",
        "    \"Well done!\",\n",
        "    \"Very disappointing\"\n",
        "]\n",
        "\n",
        "test_sequences = tokenizer.texts_to_sequences(test_sentences)\n",
        "test_sequences_padded = pad_sequences(test_sequences, maxlen=max_sequence_length, padding=\"post\")\n",
        "\n",
        "# Make predictions\n",
        "predictions = model.predict(test_sequences_padded)\n",
        "\n",
        "# Print the predictions\n",
        "for i, sentence in enumerate(test_sentences):\n",
        "    sentiment = \"Positive\" if predictions[i] > 0.5 else \"Negative\"\n",
        "    print(f\"Sentence: '{sentence}' - Sentiment: {sentiment} ({predictions[i][0]:.2f})\")\n",
        "\n",
        "\n",
        "\n"
      ],
      "metadata": {
        "colab": {
          "base_uri": "https://localhost:8080/"
        },
        "id": "_7JxlZoWWpxG",
        "outputId": "484baac4-0e50-4ab1-c21d-91fb8e442d03"
      },
      "execution_count": null,
      "outputs": [
        {
          "output_type": "stream",
          "name": "stdout",
          "text": [
            "1/1 [==============================] - 0s 440ms/step\n",
            "Sentence: 'This is amazing' - Sentiment: Positive (0.50)\n",
            "Sentence: 'Absolutely awful' - Sentiment: Negative (0.50)\n",
            "Sentence: 'Well done!' - Sentiment: Negative (0.50)\n",
            "Sentence: 'Very disappointing' - Sentiment: Negative (0.50)\n"
          ]
        }
      ]
    },
    {
      "cell_type": "code",
      "source": [
        "#exp-11GAN\n",
        "import numpy as np\n",
        "import matplotlib.pyplot as plt\n",
        "from tensorflow.keras.layers import Dense, Flatten, Reshape\n",
        "from tensorflow.keras.models import Sequential\n",
        "from tensorflow.keras.optimizers import Adam\n",
        "# Define the generator model\n",
        "def build_generator(latent_dim):\n",
        " model = Sequential()\n",
        " model.add(Dense(128, input_dim=latent_dim, activation='relu'))\n",
        " model.add(Dense(784, activation='sigmoid'))\n",
        " model.add(Reshape((28, 28, 1)))\n",
        " return model\n",
        "# Define the discriminator model\n",
        "def build_discriminator(input_shape):\n",
        " model = Sequential()\n",
        " model.add(Flatten(input_shape=input_shape))\n",
        " model.add(Dense(128, activation='relu'))\n",
        " model.add(Dense(1, activation='sigmoid'))\n",
        " return model\n",
        "# Define the GAN model that combines the generator and discriminator\n",
        "def build_gan(generator, discriminator):\n",
        " discriminator.trainable = False\n",
        " model = Sequential()\n",
        " model.add(generator)\n",
        " model.add(discriminator)\n",
        " return model\n",
        "# Load and preprocess the dataset (e.g., MNIST)\n",
        "from tensorflow.keras.datasets import mnist\n",
        "(X_train, _), (_, _) = mnist.load_data()\n",
        "X_train = X_train / 255.0 # Normalize pixel values to the range [0, 1]\n",
        "X_train = X_train.reshape(X_train.shape[0], 28, 28, 1)\n",
        "# Set hyperparameters\n",
        "latent_dim = 100\n",
        "epochs = 100\n",
        "batch_size = 64\n",
        "# Build and compile the generator, discriminator, and GAN models\n",
        "generator = build_generator(latent_dim)\n",
        "discriminator = build_discriminator(X_train[0].shape)\n",
        "gan = build_gan(generator, discriminator)\n",
        "discriminator.compile(loss='binary_crossentropy',\n",
        "optimizer=Adam(lr=0.0002, beta_1=0.5))\n",
        "gan.compile(loss='binary_crossentropy', optimizer=Adam(lr=0.0002,\n",
        "beta_1=0.5))\n",
        "# Training loop\n",
        "for epoch in range(epochs):\n",
        " # Train discriminator\n",
        " idx = np.random.randint(0, X_train.shape[0], batch_size)\n",
        " real_images = X_train[idx]\n",
        " labels_real = np.ones((batch_size, 1))\n",
        " labels_fake = np.zeros((batch_size, 1))\n",
        " noise = np.random.normal(0, 1, (batch_size, latent_dim))\n",
        " generated_images = generator.predict(noise)\n",
        " d_loss_real = discriminator.train_on_batch(real_images, labels_real)\n",
        " d_loss_fake = discriminator.train_on_batch(generated_images,\n",
        "labels_fake)\n",
        " d_loss = 0.5 * np.add(d_loss_real, d_loss_fake)\n",
        " # Train generator\n",
        " noise = np.random.normal(0, 1, (batch_size, latent_dim))\n",
        " labels_gan = np.ones((batch_size, 1))\n",
        " g_loss = gan.train_on_batch(noise, labels_gan)\n",
        " # Print progress\n",
        "if (epoch + 1) % 1000 == 0:\n",
        " print(f\"Epoch {epoch + 1}/{epochs} - D Loss: {d_loss} - G Loss: {g_loss}\")\n",
        "\n",
        " # Save generated images at specified intervals\n",
        " if (epoch + 1) % 1000 == 0:\n",
        "  num_samples = 10\n",
        " noise = np.random.normal(0, 1, (num_samples, latent_dim))\n",
        " generated_images = generator.predict(noise)\n",
        " plt.figure(figsize=(10, 2))\n",
        " for i in range(num_samples):\n",
        "  plt.subplot(1, num_samples, i + 1)\n",
        " plt.imshow(generated_images[i].reshape(28, 28), cmap='gray')\n",
        " plt.axis('off')\n",
        " plt.savefig(f\"gan_generated_image_epoch_{epoch + 1}.png\")\n",
        " plt.close()\n",
        "# Generate and save final images\n",
        "num_samples = 10\n",
        "noise = np.random.normal(0, 1, (num_samples, latent_dim))\n",
        "generated_images = generator.predict(noise)\n",
        "plt.figure(figsize=(10, 2))\n",
        "for i in range(num_samples):\n",
        " plt.subplot(1, num_samples, i + 1)\n",
        " plt.imshow(generated_images[i].reshape(28, 28), cmap='gray')\n",
        " plt.axis('off')\n",
        "plt.savefig(\"final_generated_images.png\")\n",
        "plt.show()"
      ],
      "metadata": {
        "colab": {
          "base_uri": "https://localhost:8080/",
          "height": 1000
        },
        "id": "aG582IHKW_T0",
        "outputId": "4d2cd0ec-686e-4431-df7e-4d28c8631750"
      },
      "execution_count": null,
      "outputs": [
        {
          "output_type": "stream",
          "name": "stderr",
          "text": [
            "WARNING:absl:`lr` is deprecated in Keras optimizer, please use `learning_rate` or use the legacy optimizer, e.g.,tf.keras.optimizers.legacy.Adam.\n",
            "WARNING:absl:`lr` is deprecated in Keras optimizer, please use `learning_rate` or use the legacy optimizer, e.g.,tf.keras.optimizers.legacy.Adam.\n"
          ]
        },
        {
          "output_type": "stream",
          "name": "stdout",
          "text": [
            "2/2 [==============================] - 0s 7ms/step\n",
            "2/2 [==============================] - 0s 7ms/step\n",
            "2/2 [==============================] - 0s 5ms/step\n",
            "2/2 [==============================] - 0s 6ms/step\n",
            "2/2 [==============================] - 0s 7ms/step\n",
            "2/2 [==============================] - 0s 7ms/step\n",
            "2/2 [==============================] - 0s 7ms/step\n",
            "2/2 [==============================] - 0s 7ms/step\n",
            "2/2 [==============================] - 0s 6ms/step\n",
            "2/2 [==============================] - 0s 6ms/step\n",
            "2/2 [==============================] - 0s 6ms/step\n",
            "2/2 [==============================] - 0s 7ms/step\n",
            "2/2 [==============================] - 0s 5ms/step\n",
            "2/2 [==============================] - 0s 7ms/step\n",
            "2/2 [==============================] - 0s 7ms/step\n",
            "2/2 [==============================] - 0s 5ms/step\n",
            "2/2 [==============================] - 0s 8ms/step\n",
            "2/2 [==============================] - 0s 6ms/step\n",
            "2/2 [==============================] - 0s 7ms/step\n",
            "2/2 [==============================] - 0s 8ms/step\n",
            "2/2 [==============================] - 0s 7ms/step\n",
            "2/2 [==============================] - 0s 7ms/step\n",
            "2/2 [==============================] - 0s 5ms/step\n",
            "2/2 [==============================] - 0s 5ms/step\n",
            "2/2 [==============================] - 0s 8ms/step\n",
            "2/2 [==============================] - 0s 6ms/step\n",
            "2/2 [==============================] - 0s 5ms/step\n",
            "2/2 [==============================] - 0s 5ms/step\n",
            "2/2 [==============================] - 0s 8ms/step\n",
            "2/2 [==============================] - 0s 5ms/step\n",
            "2/2 [==============================] - 0s 8ms/step\n",
            "2/2 [==============================] - 0s 8ms/step\n",
            "2/2 [==============================] - 0s 8ms/step\n",
            "2/2 [==============================] - 0s 7ms/step\n",
            "2/2 [==============================] - 0s 5ms/step\n",
            "2/2 [==============================] - 0s 6ms/step\n",
            "2/2 [==============================] - 0s 8ms/step\n",
            "2/2 [==============================] - 0s 9ms/step\n",
            "2/2 [==============================] - 0s 9ms/step\n",
            "2/2 [==============================] - 0s 5ms/step\n",
            "2/2 [==============================] - 0s 10ms/step\n",
            "2/2 [==============================] - 0s 6ms/step\n",
            "2/2 [==============================] - 0s 5ms/step\n",
            "2/2 [==============================] - 0s 5ms/step\n",
            "2/2 [==============================] - 0s 10ms/step\n",
            "2/2 [==============================] - 0s 5ms/step\n",
            "2/2 [==============================] - 0s 5ms/step\n",
            "2/2 [==============================] - 0s 5ms/step\n",
            "2/2 [==============================] - 0s 6ms/step\n",
            "2/2 [==============================] - 0s 6ms/step\n",
            "2/2 [==============================] - 0s 6ms/step\n",
            "2/2 [==============================] - 0s 8ms/step\n",
            "2/2 [==============================] - 0s 7ms/step\n",
            "2/2 [==============================] - 0s 5ms/step\n",
            "2/2 [==============================] - 0s 8ms/step\n",
            "2/2 [==============================] - 0s 5ms/step\n",
            "2/2 [==============================] - 0s 7ms/step\n",
            "2/2 [==============================] - 0s 5ms/step\n",
            "2/2 [==============================] - 0s 6ms/step\n",
            "2/2 [==============================] - 0s 5ms/step\n",
            "2/2 [==============================] - 0s 8ms/step\n",
            "2/2 [==============================] - 0s 7ms/step\n",
            "2/2 [==============================] - 0s 5ms/step\n",
            "2/2 [==============================] - 0s 7ms/step\n",
            "2/2 [==============================] - 0s 5ms/step\n",
            "2/2 [==============================] - 0s 6ms/step\n",
            "2/2 [==============================] - 0s 7ms/step\n",
            "2/2 [==============================] - 0s 7ms/step\n",
            "2/2 [==============================] - 0s 5ms/step\n",
            "2/2 [==============================] - 0s 8ms/step\n",
            "2/2 [==============================] - 0s 5ms/step\n",
            "2/2 [==============================] - 0s 6ms/step\n",
            "2/2 [==============================] - 0s 8ms/step\n",
            "2/2 [==============================] - 0s 7ms/step\n",
            "2/2 [==============================] - 0s 6ms/step\n",
            "2/2 [==============================] - 0s 7ms/step\n",
            "2/2 [==============================] - 0s 8ms/step\n",
            "2/2 [==============================] - 0s 7ms/step\n",
            "2/2 [==============================] - 0s 6ms/step\n",
            "2/2 [==============================] - 0s 7ms/step\n",
            "2/2 [==============================] - 0s 6ms/step\n",
            "2/2 [==============================] - 0s 6ms/step\n",
            "2/2 [==============================] - 0s 7ms/step\n",
            "2/2 [==============================] - 0s 6ms/step\n",
            "2/2 [==============================] - 0s 7ms/step\n",
            "2/2 [==============================] - 0s 7ms/step\n",
            "2/2 [==============================] - 0s 6ms/step\n",
            "2/2 [==============================] - 0s 5ms/step\n",
            "2/2 [==============================] - 0s 5ms/step\n",
            "2/2 [==============================] - 0s 8ms/step\n",
            "2/2 [==============================] - 0s 6ms/step\n",
            "2/2 [==============================] - 0s 5ms/step\n",
            "2/2 [==============================] - 0s 8ms/step\n",
            "2/2 [==============================] - 0s 7ms/step\n",
            "2/2 [==============================] - 0s 11ms/step\n",
            "2/2 [==============================] - 0s 5ms/step\n",
            "2/2 [==============================] - 0s 7ms/step\n",
            "2/2 [==============================] - 0s 6ms/step\n",
            "2/2 [==============================] - 0s 8ms/step\n",
            "2/2 [==============================] - 0s 8ms/step\n",
            "1/1 [==============================] - 0s 70ms/step\n"
          ]
        },
        {
          "output_type": "display_data",
          "data": {
            "text/plain": [
              "<Figure size 1000x200 with 10 Axes>"
            ],
            "image/png": "[encoded data removed]"
          },
          "metadata": {}
        }
      ]
    },
    {
      "cell_type": "code",
      "source": [
        "#exp-12\n",
        "import numpy as np\n",
        "from tensorflow import keras\n",
        "from tensorflow.keras import layers\n",
        "max_features = 20000 # Only consider the top 20k words\n",
        "maxlen = 200 # Only consider the first 200 words of each movie review\n",
        "# Input for variable-length sequences of integers\n",
        "inputs = keras.Input(shape=(None,), dtype=\"int32\")\n",
        "# Embed each integer in a 128-dimensional vector\n",
        "x = layers.Embedding(max_features, 128)(inputs)\n",
        "# Add 2 bidirectional LSTMs\n",
        "x = layers.Bidirectional(layers.LSTM(64, return_sequences=True))(x)\n",
        "x = layers.Bidirectional(layers.LSTM(64))(x)\n",
        "# Add a classifier\n",
        "outputs = layers.Dense(1, activation=\"sigmoid\")(x)\n",
        "model = keras.Model(inputs, outputs)\n",
        "model.summary()\n",
        "(x_train, y_train), (x_val, y_val) = keras.datasets.imdb.load_data(\n",
        "num_words=max_features\n",
        ")\n",
        "print(len(x_train), \"Training sequences\")\n",
        "print(len(x_val), \"Validation sequences\")\n",
        "x_train = keras.preprocessing.sequence.pad_sequences(x_train,\n",
        "maxlen=maxlen)\n",
        "x_val = keras.preprocessing.sequence.pad_sequences(x_val,\n",
        "maxlen=maxlen)\n",
        "model.compile(\"adam\", \"binary_crossentropy\", metrics=[\"accuracy\"])\n",
        "model.fit(x_train, y_train, batch_size=32, epochs=2,\n",
        "validation_data=(x_val, y_val))"
      ],
      "metadata": {
        "colab": {
          "base_uri": "https://localhost:8080/"
        },
        "id": "zBjP_ZfvXElp",
        "outputId": "f6d59eaf-03a4-45de-c575-59faeb1d50f8"
      },
      "execution_count": null,
      "outputs": [
        {
          "output_type": "stream",
          "name": "stdout",
          "text": [
            "Model: \"model_1\"\n",
            "_________________________________________________________________\n",
            " Layer (type)                Output Shape              Param #   \n",
            "=================================================================\n",
            " input_3 (InputLayer)        [(None, None)]            0         \n",
            "                                                                 \n",
            " embedding_2 (Embedding)     (None, None, 128)         2560000   \n",
            "                                                                 \n",
            " bidirectional_2 (Bidirecti  (None, None, 128)         98816     \n",
            " onal)                                                           \n",
            "                                                                 \n",
            " bidirectional_3 (Bidirecti  (None, 128)               98816     \n",
            " onal)                                                           \n",
            "                                                                 \n",
            " dense_14 (Dense)            (None, 1)                 129       \n",
            "                                                                 \n",
            "=================================================================\n",
            "Total params: 2757761 (10.52 MB)\n",
            "Trainable params: 2757761 (10.52 MB)\n",
            "Non-trainable params: 0 (0.00 Byte)\n",
            "_________________________________________________________________\n",
            "25000 Training sequences\n",
            "25000 Validation sequences\n",
            "Epoch 1/2\n",
            "111/782 [===>..........................] - ETA: 6:45 - loss: 0.5581 - accuracy: 0.6872"
          ]
        }
      ]
    }
  ]
}